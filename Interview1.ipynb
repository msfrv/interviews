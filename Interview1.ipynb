{
  "nbformat": 4,
  "nbformat_minor": 0,
  "metadata": {
    "colab": {
      "name": "Interview1.ipynb",
      "provenance": [],
      "collapsed_sections": []
    },
    "kernelspec": {
      "name": "python3",
      "display_name": "Python 3"
    },
    "language_info": {
      "name": "python"
    }
  },
  "cells": [
    {
      "cell_type": "markdown",
      "source": [
        "# load data (1)"
      ],
      "metadata": {
        "id": "mJY0q6wTzhCK"
      }
    },
    {
      "cell_type": "code",
      "source": [
        "import pandas as pd\n",
        "import numpy as np"
      ],
      "metadata": {
        "id": "wkTG0HvxtsX3"
      },
      "execution_count": 19,
      "outputs": []
    },
    {
      "cell_type": "code",
      "source": [
        "df = pd.read_csv('https://raw.githubusercontent.com/msfrv/interviews/main/prices.csv')\n",
        "df.head()"
      ],
      "metadata": {
        "colab": {
          "base_uri": "https://localhost:8080/",
          "height": 206
        },
        "id": "GKe_JMmYthLg",
        "outputId": "0edd30e7-2e93-4bbc-cfa5-30cb67ba7ef1"
      },
      "execution_count": 27,
      "outputs": [
        {
          "output_type": "execute_result",
          "data": {
            "text/plain": [
              "  stock        date      price\n",
              "0     A  2018-01-01  42.910205\n",
              "1     A  2018-01-02  46.468834\n",
              "2     A  2018-01-03  71.158140\n",
              "3     A  2018-01-04  43.746151\n",
              "4     A  2018-01-05  43.036749"
            ],
            "text/html": [
              "\n",
              "  <div id=\"df-e00498f5-d6f8-4a7b-b8f1-dcfa58b0223f\">\n",
              "    <div class=\"colab-df-container\">\n",
              "      <div>\n",
              "<style scoped>\n",
              "    .dataframe tbody tr th:only-of-type {\n",
              "        vertical-align: middle;\n",
              "    }\n",
              "\n",
              "    .dataframe tbody tr th {\n",
              "        vertical-align: top;\n",
              "    }\n",
              "\n",
              "    .dataframe thead th {\n",
              "        text-align: right;\n",
              "    }\n",
              "</style>\n",
              "<table border=\"1\" class=\"dataframe\">\n",
              "  <thead>\n",
              "    <tr style=\"text-align: right;\">\n",
              "      <th></th>\n",
              "      <th>stock</th>\n",
              "      <th>date</th>\n",
              "      <th>price</th>\n",
              "    </tr>\n",
              "  </thead>\n",
              "  <tbody>\n",
              "    <tr>\n",
              "      <th>0</th>\n",
              "      <td>A</td>\n",
              "      <td>2018-01-01</td>\n",
              "      <td>42.910205</td>\n",
              "    </tr>\n",
              "    <tr>\n",
              "      <th>1</th>\n",
              "      <td>A</td>\n",
              "      <td>2018-01-02</td>\n",
              "      <td>46.468834</td>\n",
              "    </tr>\n",
              "    <tr>\n",
              "      <th>2</th>\n",
              "      <td>A</td>\n",
              "      <td>2018-01-03</td>\n",
              "      <td>71.158140</td>\n",
              "    </tr>\n",
              "    <tr>\n",
              "      <th>3</th>\n",
              "      <td>A</td>\n",
              "      <td>2018-01-04</td>\n",
              "      <td>43.746151</td>\n",
              "    </tr>\n",
              "    <tr>\n",
              "      <th>4</th>\n",
              "      <td>A</td>\n",
              "      <td>2018-01-05</td>\n",
              "      <td>43.036749</td>\n",
              "    </tr>\n",
              "  </tbody>\n",
              "</table>\n",
              "</div>\n",
              "      <button class=\"colab-df-convert\" onclick=\"convertToInteractive('df-e00498f5-d6f8-4a7b-b8f1-dcfa58b0223f')\"\n",
              "              title=\"Convert this dataframe to an interactive table.\"\n",
              "              style=\"display:none;\">\n",
              "        \n",
              "  <svg xmlns=\"http://www.w3.org/2000/svg\" height=\"24px\"viewBox=\"0 0 24 24\"\n",
              "       width=\"24px\">\n",
              "    <path d=\"M0 0h24v24H0V0z\" fill=\"none\"/>\n",
              "    <path d=\"M18.56 5.44l.94 2.06.94-2.06 2.06-.94-2.06-.94-.94-2.06-.94 2.06-2.06.94zm-11 1L8.5 8.5l.94-2.06 2.06-.94-2.06-.94L8.5 2.5l-.94 2.06-2.06.94zm10 10l.94 2.06.94-2.06 2.06-.94-2.06-.94-.94-2.06-.94 2.06-2.06.94z\"/><path d=\"M17.41 7.96l-1.37-1.37c-.4-.4-.92-.59-1.43-.59-.52 0-1.04.2-1.43.59L10.3 9.45l-7.72 7.72c-.78.78-.78 2.05 0 2.83L4 21.41c.39.39.9.59 1.41.59.51 0 1.02-.2 1.41-.59l7.78-7.78 2.81-2.81c.8-.78.8-2.07 0-2.86zM5.41 20L4 18.59l7.72-7.72 1.47 1.35L5.41 20z\"/>\n",
              "  </svg>\n",
              "      </button>\n",
              "      \n",
              "  <style>\n",
              "    .colab-df-container {\n",
              "      display:flex;\n",
              "      flex-wrap:wrap;\n",
              "      gap: 12px;\n",
              "    }\n",
              "\n",
              "    .colab-df-convert {\n",
              "      background-color: #E8F0FE;\n",
              "      border: none;\n",
              "      border-radius: 50%;\n",
              "      cursor: pointer;\n",
              "      display: none;\n",
              "      fill: #1967D2;\n",
              "      height: 32px;\n",
              "      padding: 0 0 0 0;\n",
              "      width: 32px;\n",
              "    }\n",
              "\n",
              "    .colab-df-convert:hover {\n",
              "      background-color: #E2EBFA;\n",
              "      box-shadow: 0px 1px 2px rgba(60, 64, 67, 0.3), 0px 1px 3px 1px rgba(60, 64, 67, 0.15);\n",
              "      fill: #174EA6;\n",
              "    }\n",
              "\n",
              "    [theme=dark] .colab-df-convert {\n",
              "      background-color: #3B4455;\n",
              "      fill: #D2E3FC;\n",
              "    }\n",
              "\n",
              "    [theme=dark] .colab-df-convert:hover {\n",
              "      background-color: #434B5C;\n",
              "      box-shadow: 0px 1px 3px 1px rgba(0, 0, 0, 0.15);\n",
              "      filter: drop-shadow(0px 1px 2px rgba(0, 0, 0, 0.3));\n",
              "      fill: #FFFFFF;\n",
              "    }\n",
              "  </style>\n",
              "\n",
              "      <script>\n",
              "        const buttonEl =\n",
              "          document.querySelector('#df-e00498f5-d6f8-4a7b-b8f1-dcfa58b0223f button.colab-df-convert');\n",
              "        buttonEl.style.display =\n",
              "          google.colab.kernel.accessAllowed ? 'block' : 'none';\n",
              "\n",
              "        async function convertToInteractive(key) {\n",
              "          const element = document.querySelector('#df-e00498f5-d6f8-4a7b-b8f1-dcfa58b0223f');\n",
              "          const dataTable =\n",
              "            await google.colab.kernel.invokeFunction('convertToInteractive',\n",
              "                                                     [key], {});\n",
              "          if (!dataTable) return;\n",
              "\n",
              "          const docLinkHtml = 'Like what you see? Visit the ' +\n",
              "            '<a target=\"_blank\" href=https://colab.research.google.com/notebooks/data_table.ipynb>data table notebook</a>'\n",
              "            + ' to learn more about interactive tables.';\n",
              "          element.innerHTML = '';\n",
              "          dataTable['output_type'] = 'display_data';\n",
              "          await google.colab.output.renderOutput(dataTable, element);\n",
              "          const docLink = document.createElement('div');\n",
              "          docLink.innerHTML = docLinkHtml;\n",
              "          element.appendChild(docLink);\n",
              "        }\n",
              "      </script>\n",
              "    </div>\n",
              "  </div>\n",
              "  "
            ]
          },
          "metadata": {},
          "execution_count": 27
        }
      ]
    },
    {
      "cell_type": "markdown",
      "source": [
        "## pivot table\n",
        "Convert the dataframe such that the rows are date, columns are stocks.\n",
        "The first few rows should be like:\n",
        "\n",
        "```\n",
        "                   A          B          C          D          E          F   ...\n",
        "2018-01-01  42.910205  29.145580  66.738553  55.920965  90.381230  50.161381  ... \n",
        "2018-01-02  46.468834  29.513768  62.218892  56.656698  88.731589  47.227976  ...\n",
        "2018-01-03  71.158140  29.877393  66.628797  55.212968  90.360738  48.242614  ... \n",
        "2018-01-04  43.746151  29.774971  62.862005  58.668346  93.931583  49.503737  ... \n",
        "2018-01-05  43.036749  29.691612  65.681785  55.069295  90.879364  48.997726  ...\n",
        "```\n",
        "\n"
      ],
      "metadata": {
        "id": "0UpXIu-mxeh6"
      }
    },
    {
      "cell_type": "code",
      "source": [
        "# code here\n"
      ],
      "metadata": {
        "id": "F09tiCovvMOW"
      },
      "execution_count": 28,
      "outputs": []
    },
    {
      "cell_type": "markdown",
      "source": [
        "## find outliers\n",
        "find datapoints (stock+date) which are >2 sigmas (standard deviation) away from their means.\n",
        "\n",
        "Show their z-scores and the prices.\n",
        "\n",
        "The output should be like:\n",
        "\n",
        "```\n",
        " stock        date   z-score      price\n",
        "     A  2018-01-03  11.047592  71.158140\n",
        "     B  2018-07-27   7.976222  32.058381\n",
        "     E  2018-02-15  -4.397496  82.856551\n",
        "......\n",
        "```\n",
        "note: z-score is $(x-\\mu)/\\sigma$\n"
      ],
      "metadata": {
        "id": "MChBzARxyLrx"
      }
    },
    {
      "cell_type": "code",
      "source": [
        "# code here\n"
      ],
      "metadata": {
        "id": "WZhO1TaxzSCC"
      },
      "execution_count": 26,
      "outputs": []
    },
    {
      "cell_type": "markdown",
      "source": [
        "## remove outliers\n",
        "for each of the outliers found above, replace their prices by interpolating between the values before and after.\n",
        "\n",
        "For example, for the first outlier (price of A at 2018-01-03):\n",
        "\n",
        "```\n",
        "stock  date           prices\n",
        "A      2018-01-02     46.468834\n",
        "       2018-01-03     71.158140\n",
        "       2018-01-04     43.746151\n",
        "```\n",
        "We will replace the price of A at 2018-01-03 by: $(46.47+43.75)/2=45.11$\n",
        "\n",
        "Output the list of replacements used:\n",
        "```\n",
        "stock  date      \n",
        "A      2018-01-03    45.107493\n",
        "B      2018-07-27    29.274156\n",
        "......\n",
        "```\n"
      ],
      "metadata": {
        "id": "TnwBKjB40FKj"
      }
    },
    {
      "cell_type": "code",
      "source": [
        "# code here\n"
      ],
      "metadata": {
        "id": "fOvGYcYm2bsi"
      },
      "execution_count": 29,
      "outputs": []
    },
    {
      "cell_type": "markdown",
      "source": [
        "The prices should now be like this :\n",
        "```\n",
        "                    A          B          C          D          E                                                                       \n",
        "2018-01-01  42.910205  29.145580  66.738553  55.920965  90.381230 ...  \n",
        "2018-01-02  46.468834  29.513768  62.218892  56.656698  88.731589 ...  \n",
        "2018-01-03  45.107493  29.877393  66.628797  55.212968  90.360738 ...  \n",
        "2018-01-04  43.746151  29.774971  62.862005  58.668346  93.931583 ... \n",
        "...\n",
        "```  "
      ],
      "metadata": {
        "id": "RfAmBNDZ3U_x"
      }
    },
    {
      "cell_type": "code",
      "source": [
        ""
      ],
      "metadata": {
        "id": "vOlJ45X13mdm"
      },
      "execution_count": null,
      "outputs": []
    },
    {
      "cell_type": "markdown",
      "source": [
        "# load weights\n",
        "This file contains the weights of those 10 stocks in 20 ETFs.\n",
        "Each row is guaranteed to sum to 1.0"
      ],
      "metadata": {
        "id": "WIOXVQxW5D_6"
      }
    },
    {
      "cell_type": "code",
      "source": [
        "w = pd.read_csv('https://raw.githubusercontent.com/msfrv/interviews/main/weights.csv',index_col=0)\n",
        "w.head()"
      ],
      "metadata": {
        "colab": {
          "base_uri": "https://localhost:8080/",
          "height": 206
        },
        "id": "ZNXiHi4R5Hlw",
        "outputId": "1a3d5a0a-7889-4c89-fef5-b4b5421ed403"
      },
      "execution_count": 32,
      "outputs": [
        {
          "output_type": "execute_result",
          "data": {
            "text/plain": [
              "             A         B         C         D         E         F         G  \\\n",
              "ETF0  0.032161  0.160087  0.155371  0.017495  0.158185  0.053476  0.221998   \n",
              "ETF1  0.020030  0.078445  0.149019  0.091011  0.006436  0.190682  0.148907   \n",
              "ETF2  0.196113  0.181189  0.095938  0.086834  0.006523  0.083930  0.099427   \n",
              "ETF3  0.048181  0.163308  0.053828  0.092525  0.107521  0.157659  0.005138   \n",
              "ETF4  0.120828  0.127946  0.200062  0.122529  0.108332  0.153985  0.066616   \n",
              "\n",
              "             H         I         J  \n",
              "ETF0  0.087146  0.113267  0.000814  \n",
              "ETF1  0.161568  0.087372  0.066530  \n",
              "ETF2  0.115733  0.031817  0.102496  \n",
              "ETF3  0.162741  0.101255  0.107844  \n",
              "ETF4  0.050126  0.025478  0.024097  "
            ],
            "text/html": [
              "\n",
              "  <div id=\"df-0e90cea2-e7a6-4340-bd37-570d112eb1f8\">\n",
              "    <div class=\"colab-df-container\">\n",
              "      <div>\n",
              "<style scoped>\n",
              "    .dataframe tbody tr th:only-of-type {\n",
              "        vertical-align: middle;\n",
              "    }\n",
              "\n",
              "    .dataframe tbody tr th {\n",
              "        vertical-align: top;\n",
              "    }\n",
              "\n",
              "    .dataframe thead th {\n",
              "        text-align: right;\n",
              "    }\n",
              "</style>\n",
              "<table border=\"1\" class=\"dataframe\">\n",
              "  <thead>\n",
              "    <tr style=\"text-align: right;\">\n",
              "      <th></th>\n",
              "      <th>A</th>\n",
              "      <th>B</th>\n",
              "      <th>C</th>\n",
              "      <th>D</th>\n",
              "      <th>E</th>\n",
              "      <th>F</th>\n",
              "      <th>G</th>\n",
              "      <th>H</th>\n",
              "      <th>I</th>\n",
              "      <th>J</th>\n",
              "    </tr>\n",
              "  </thead>\n",
              "  <tbody>\n",
              "    <tr>\n",
              "      <th>ETF0</th>\n",
              "      <td>0.032161</td>\n",
              "      <td>0.160087</td>\n",
              "      <td>0.155371</td>\n",
              "      <td>0.017495</td>\n",
              "      <td>0.158185</td>\n",
              "      <td>0.053476</td>\n",
              "      <td>0.221998</td>\n",
              "      <td>0.087146</td>\n",
              "      <td>0.113267</td>\n",
              "      <td>0.000814</td>\n",
              "    </tr>\n",
              "    <tr>\n",
              "      <th>ETF1</th>\n",
              "      <td>0.020030</td>\n",
              "      <td>0.078445</td>\n",
              "      <td>0.149019</td>\n",
              "      <td>0.091011</td>\n",
              "      <td>0.006436</td>\n",
              "      <td>0.190682</td>\n",
              "      <td>0.148907</td>\n",
              "      <td>0.161568</td>\n",
              "      <td>0.087372</td>\n",
              "      <td>0.066530</td>\n",
              "    </tr>\n",
              "    <tr>\n",
              "      <th>ETF2</th>\n",
              "      <td>0.196113</td>\n",
              "      <td>0.181189</td>\n",
              "      <td>0.095938</td>\n",
              "      <td>0.086834</td>\n",
              "      <td>0.006523</td>\n",
              "      <td>0.083930</td>\n",
              "      <td>0.099427</td>\n",
              "      <td>0.115733</td>\n",
              "      <td>0.031817</td>\n",
              "      <td>0.102496</td>\n",
              "    </tr>\n",
              "    <tr>\n",
              "      <th>ETF3</th>\n",
              "      <td>0.048181</td>\n",
              "      <td>0.163308</td>\n",
              "      <td>0.053828</td>\n",
              "      <td>0.092525</td>\n",
              "      <td>0.107521</td>\n",
              "      <td>0.157659</td>\n",
              "      <td>0.005138</td>\n",
              "      <td>0.162741</td>\n",
              "      <td>0.101255</td>\n",
              "      <td>0.107844</td>\n",
              "    </tr>\n",
              "    <tr>\n",
              "      <th>ETF4</th>\n",
              "      <td>0.120828</td>\n",
              "      <td>0.127946</td>\n",
              "      <td>0.200062</td>\n",
              "      <td>0.122529</td>\n",
              "      <td>0.108332</td>\n",
              "      <td>0.153985</td>\n",
              "      <td>0.066616</td>\n",
              "      <td>0.050126</td>\n",
              "      <td>0.025478</td>\n",
              "      <td>0.024097</td>\n",
              "    </tr>\n",
              "  </tbody>\n",
              "</table>\n",
              "</div>\n",
              "      <button class=\"colab-df-convert\" onclick=\"convertToInteractive('df-0e90cea2-e7a6-4340-bd37-570d112eb1f8')\"\n",
              "              title=\"Convert this dataframe to an interactive table.\"\n",
              "              style=\"display:none;\">\n",
              "        \n",
              "  <svg xmlns=\"http://www.w3.org/2000/svg\" height=\"24px\"viewBox=\"0 0 24 24\"\n",
              "       width=\"24px\">\n",
              "    <path d=\"M0 0h24v24H0V0z\" fill=\"none\"/>\n",
              "    <path d=\"M18.56 5.44l.94 2.06.94-2.06 2.06-.94-2.06-.94-.94-2.06-.94 2.06-2.06.94zm-11 1L8.5 8.5l.94-2.06 2.06-.94-2.06-.94L8.5 2.5l-.94 2.06-2.06.94zm10 10l.94 2.06.94-2.06 2.06-.94-2.06-.94-.94-2.06-.94 2.06-2.06.94z\"/><path d=\"M17.41 7.96l-1.37-1.37c-.4-.4-.92-.59-1.43-.59-.52 0-1.04.2-1.43.59L10.3 9.45l-7.72 7.72c-.78.78-.78 2.05 0 2.83L4 21.41c.39.39.9.59 1.41.59.51 0 1.02-.2 1.41-.59l7.78-7.78 2.81-2.81c.8-.78.8-2.07 0-2.86zM5.41 20L4 18.59l7.72-7.72 1.47 1.35L5.41 20z\"/>\n",
              "  </svg>\n",
              "      </button>\n",
              "      \n",
              "  <style>\n",
              "    .colab-df-container {\n",
              "      display:flex;\n",
              "      flex-wrap:wrap;\n",
              "      gap: 12px;\n",
              "    }\n",
              "\n",
              "    .colab-df-convert {\n",
              "      background-color: #E8F0FE;\n",
              "      border: none;\n",
              "      border-radius: 50%;\n",
              "      cursor: pointer;\n",
              "      display: none;\n",
              "      fill: #1967D2;\n",
              "      height: 32px;\n",
              "      padding: 0 0 0 0;\n",
              "      width: 32px;\n",
              "    }\n",
              "\n",
              "    .colab-df-convert:hover {\n",
              "      background-color: #E2EBFA;\n",
              "      box-shadow: 0px 1px 2px rgba(60, 64, 67, 0.3), 0px 1px 3px 1px rgba(60, 64, 67, 0.15);\n",
              "      fill: #174EA6;\n",
              "    }\n",
              "\n",
              "    [theme=dark] .colab-df-convert {\n",
              "      background-color: #3B4455;\n",
              "      fill: #D2E3FC;\n",
              "    }\n",
              "\n",
              "    [theme=dark] .colab-df-convert:hover {\n",
              "      background-color: #434B5C;\n",
              "      box-shadow: 0px 1px 3px 1px rgba(0, 0, 0, 0.15);\n",
              "      filter: drop-shadow(0px 1px 2px rgba(0, 0, 0, 0.3));\n",
              "      fill: #FFFFFF;\n",
              "    }\n",
              "  </style>\n",
              "\n",
              "      <script>\n",
              "        const buttonEl =\n",
              "          document.querySelector('#df-0e90cea2-e7a6-4340-bd37-570d112eb1f8 button.colab-df-convert');\n",
              "        buttonEl.style.display =\n",
              "          google.colab.kernel.accessAllowed ? 'block' : 'none';\n",
              "\n",
              "        async function convertToInteractive(key) {\n",
              "          const element = document.querySelector('#df-0e90cea2-e7a6-4340-bd37-570d112eb1f8');\n",
              "          const dataTable =\n",
              "            await google.colab.kernel.invokeFunction('convertToInteractive',\n",
              "                                                     [key], {});\n",
              "          if (!dataTable) return;\n",
              "\n",
              "          const docLinkHtml = 'Like what you see? Visit the ' +\n",
              "            '<a target=\"_blank\" href=https://colab.research.google.com/notebooks/data_table.ipynb>data table notebook</a>'\n",
              "            + ' to learn more about interactive tables.';\n",
              "          element.innerHTML = '';\n",
              "          dataTable['output_type'] = 'display_data';\n",
              "          await google.colab.output.renderOutput(dataTable, element);\n",
              "          const docLink = document.createElement('div');\n",
              "          docLink.innerHTML = docLinkHtml;\n",
              "          element.appendChild(docLink);\n",
              "        }\n",
              "      </script>\n",
              "    </div>\n",
              "  </div>\n",
              "  "
            ]
          },
          "metadata": {},
          "execution_count": 32
        }
      ]
    },
    {
      "cell_type": "markdown",
      "source": [
        "Please compute the *recomposed returns* of the ETFs by:\n",
        "\n",
        "$ r_{i,d} = \\sum_j w_{i,j} (p_{j,d}/p_{j,d-1}-1)$\n",
        "\n",
        "where \n",
        "* $r_{i,d}$ is the recomposed return of ETF$i$ on date $d$\n",
        "* $w_{i,j}$ is the weight of the $j^{th}$ stock in ETF$i$\n",
        "* $p_{j,d}$ is the price of the $j^{th}$ stock on date $d$\n",
        "\n",
        "The result should be a 260x20 dataframe"
      ],
      "metadata": {
        "id": "Rw7CZxPK6VeP"
      }
    },
    {
      "cell_type": "code",
      "source": [
        "# code here"
      ],
      "metadata": {
        "id": "xmg1RP5m51-r"
      },
      "execution_count": 35,
      "outputs": []
    },
    {
      "cell_type": "code",
      "source": [
        ""
      ],
      "metadata": {
        "id": "SUADdhow89kV"
      },
      "execution_count": null,
      "outputs": []
    }
  ]
}