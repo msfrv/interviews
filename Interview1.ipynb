{
 "cells": [
  {
   "cell_type": "markdown",
   "metadata": {
    "id": "mJY0q6wTzhCK"
   },
   "source": [
    "# load data (1)"
   ]
  },
  {
   "cell_type": "code",
   "execution_count": 1,
   "metadata": {
    "id": "wkTG0HvxtsX3"
   },
   "outputs": [],
   "source": [
    "import pandas as pd\n",
    "import numpy as np"
   ]
  },
  {
   "cell_type": "code",
   "execution_count": 2,
   "metadata": {
    "colab": {
     "base_uri": "https://localhost:8080/",
     "height": 206
    },
    "id": "GKe_JMmYthLg",
    "outputId": "0edd30e7-2e93-4bbc-cfa5-30cb67ba7ef1"
   },
   "outputs": [
    {
     "data": {
      "text/html": [
       "<div>\n",
       "<style scoped>\n",
       "    .dataframe tbody tr th:only-of-type {\n",
       "        vertical-align: middle;\n",
       "    }\n",
       "\n",
       "    .dataframe tbody tr th {\n",
       "        vertical-align: top;\n",
       "    }\n",
       "\n",
       "    .dataframe thead th {\n",
       "        text-align: right;\n",
       "    }\n",
       "</style>\n",
       "<table border=\"1\" class=\"dataframe\">\n",
       "  <thead>\n",
       "    <tr style=\"text-align: right;\">\n",
       "      <th></th>\n",
       "      <th>stock</th>\n",
       "      <th>date</th>\n",
       "      <th>price</th>\n",
       "    </tr>\n",
       "  </thead>\n",
       "  <tbody>\n",
       "    <tr>\n",
       "      <th>0</th>\n",
       "      <td>A</td>\n",
       "      <td>2018-01-01</td>\n",
       "      <td>42.910205</td>\n",
       "    </tr>\n",
       "    <tr>\n",
       "      <th>1</th>\n",
       "      <td>A</td>\n",
       "      <td>2018-01-02</td>\n",
       "      <td>46.468834</td>\n",
       "    </tr>\n",
       "    <tr>\n",
       "      <th>2</th>\n",
       "      <td>A</td>\n",
       "      <td>2018-01-03</td>\n",
       "      <td>71.158140</td>\n",
       "    </tr>\n",
       "    <tr>\n",
       "      <th>3</th>\n",
       "      <td>A</td>\n",
       "      <td>2018-01-04</td>\n",
       "      <td>43.746151</td>\n",
       "    </tr>\n",
       "    <tr>\n",
       "      <th>4</th>\n",
       "      <td>A</td>\n",
       "      <td>2018-01-05</td>\n",
       "      <td>43.036749</td>\n",
       "    </tr>\n",
       "  </tbody>\n",
       "</table>\n",
       "</div>"
      ],
      "text/plain": [
       "  stock        date      price\n",
       "0     A  2018-01-01  42.910205\n",
       "1     A  2018-01-02  46.468834\n",
       "2     A  2018-01-03  71.158140\n",
       "3     A  2018-01-04  43.746151\n",
       "4     A  2018-01-05  43.036749"
      ]
     },
     "execution_count": 2,
     "metadata": {},
     "output_type": "execute_result"
    }
   ],
   "source": [
    "df = pd.read_csv('https://raw.githubusercontent.com/msfrv/interviews/main/prices.csv')\n",
    "df.head()"
   ]
  },
  {
   "cell_type": "markdown",
   "metadata": {
    "id": "0UpXIu-mxeh6"
   },
   "source": [
    "## pivot table\n",
    "Convert the dataframe such that the rows are date, columns are stocks.\n",
    "The first few rows should be like:\n",
    "\n",
    "```\n",
    "                   A          B          C          D          E          F   ...\n",
    "2018-01-01  42.910205  29.145580  66.738553  55.920965  90.381230  50.161381  ... \n",
    "2018-01-02  46.468834  29.513768  62.218892  56.656698  88.731589  47.227976  ...\n",
    "2018-01-03  71.158140  29.877393  66.628797  55.212968  90.360738  48.242614  ... \n",
    "2018-01-04  43.746151  29.774971  62.862005  58.668346  93.931583  49.503737  ... \n",
    "2018-01-05  43.036749  29.691612  65.681785  55.069295  90.879364  48.997726  ...\n",
    "```\n",
    "\n"
   ]
  },
  {
   "cell_type": "code",
   "execution_count": 3,
   "metadata": {
    "id": "F09tiCovvMOW"
   },
   "outputs": [],
   "source": [
    "# code here\n"
   ]
  },
  {
   "cell_type": "markdown",
   "metadata": {
    "id": "MChBzARxyLrx"
   },
   "source": [
    "## find outliers\n",
    "find datapoints (stock+date) which are >2 sigmas (standard deviation) away from their means.\n",
    "\n",
    "Show their z-scores and the prices.\n",
    "\n",
    "The output should be like:\n",
    "\n",
    "```\n",
    " stock        date   z-score      price\n",
    "     A  2018-01-03  11.047592  71.158140\n",
    "     B  2018-07-27   7.976222  32.058381\n",
    "     E  2018-02-15  -4.397496  82.856551\n",
    "......\n",
    "```\n",
    "note: z-score is $(x-\\mu)/\\sigma$\n"
   ]
  },
  {
   "cell_type": "code",
   "execution_count": 4,
   "metadata": {
    "id": "WZhO1TaxzSCC"
   },
   "outputs": [],
   "source": [
    "# code here\n"
   ]
  },
  {
   "cell_type": "markdown",
   "metadata": {
    "id": "TnwBKjB40FKj"
   },
   "source": [
    "## remove outliers\n",
    "for each of the outliers found above, replace their prices by interpolating between the values before and after.\n",
    "\n",
    "For example, for the first outlier (price of A at 2018-01-03):\n",
    "\n",
    "```\n",
    "stock  date           prices\n",
    "A      2018-01-02     46.468834\n",
    "       2018-01-03     71.158140\n",
    "       2018-01-04     43.746151\n",
    "```\n",
    "We will replace the price of A at 2018-01-03 by: $(46.47+43.75)/2=45.11$\n",
    "\n",
    "Output the list of replacements used:\n",
    "```\n",
    "stock  date      \n",
    "A      2018-01-03    45.107493\n",
    "B      2018-07-27    29.274156\n",
    "......\n",
    "```\n"
   ]
  },
  {
   "cell_type": "code",
   "execution_count": 5,
   "metadata": {
    "id": "fOvGYcYm2bsi"
   },
   "outputs": [],
   "source": [
    "# code here\n"
   ]
  },
  {
   "cell_type": "markdown",
   "metadata": {
    "id": "RfAmBNDZ3U_x"
   },
   "source": [
    "The prices should now be like this :\n",
    "```\n",
    "                    A          B          C          D          E                                                                       \n",
    "2018-01-01  42.910205  29.145580  66.738553  55.920965  90.381230 ...  \n",
    "2018-01-02  46.468834  29.513768  62.218892  56.656698  88.731589 ...  \n",
    "2018-01-03  45.107493  29.877393  66.628797  55.212968  90.360738 ...  \n",
    "2018-01-04  43.746151  29.774971  62.862005  58.668346  93.931583 ... \n",
    "...\n",
    "```  "
   ]
  },
  {
   "cell_type": "markdown",
   "metadata": {
    "id": "WIOXVQxW5D_6"
   },
   "source": [
    "# load weights\n",
    "This file contains the weights of those 10 stocks in 20 ETFs.\n",
    "Each row is guaranteed to sum to 1.0"
   ]
  },
  {
   "cell_type": "code",
   "execution_count": 6,
   "metadata": {
    "colab": {
     "base_uri": "https://localhost:8080/",
     "height": 206
    },
    "id": "ZNXiHi4R5Hlw",
    "outputId": "1a3d5a0a-7889-4c89-fef5-b4b5421ed403"
   },
   "outputs": [
    {
     "data": {
      "text/html": [
       "<div>\n",
       "<style scoped>\n",
       "    .dataframe tbody tr th:only-of-type {\n",
       "        vertical-align: middle;\n",
       "    }\n",
       "\n",
       "    .dataframe tbody tr th {\n",
       "        vertical-align: top;\n",
       "    }\n",
       "\n",
       "    .dataframe thead th {\n",
       "        text-align: right;\n",
       "    }\n",
       "</style>\n",
       "<table border=\"1\" class=\"dataframe\">\n",
       "  <thead>\n",
       "    <tr style=\"text-align: right;\">\n",
       "      <th></th>\n",
       "      <th>A</th>\n",
       "      <th>B</th>\n",
       "      <th>C</th>\n",
       "      <th>D</th>\n",
       "      <th>E</th>\n",
       "      <th>F</th>\n",
       "      <th>G</th>\n",
       "      <th>H</th>\n",
       "      <th>I</th>\n",
       "      <th>J</th>\n",
       "    </tr>\n",
       "  </thead>\n",
       "  <tbody>\n",
       "    <tr>\n",
       "      <th>ETF0</th>\n",
       "      <td>0.032161</td>\n",
       "      <td>0.160087</td>\n",
       "      <td>0.155371</td>\n",
       "      <td>0.017495</td>\n",
       "      <td>0.158185</td>\n",
       "      <td>0.053476</td>\n",
       "      <td>0.221998</td>\n",
       "      <td>0.087146</td>\n",
       "      <td>0.113267</td>\n",
       "      <td>0.000814</td>\n",
       "    </tr>\n",
       "    <tr>\n",
       "      <th>ETF1</th>\n",
       "      <td>0.020030</td>\n",
       "      <td>0.078445</td>\n",
       "      <td>0.149019</td>\n",
       "      <td>0.091011</td>\n",
       "      <td>0.006436</td>\n",
       "      <td>0.190682</td>\n",
       "      <td>0.148907</td>\n",
       "      <td>0.161568</td>\n",
       "      <td>0.087372</td>\n",
       "      <td>0.066530</td>\n",
       "    </tr>\n",
       "    <tr>\n",
       "      <th>ETF2</th>\n",
       "      <td>0.196113</td>\n",
       "      <td>0.181189</td>\n",
       "      <td>0.095938</td>\n",
       "      <td>0.086834</td>\n",
       "      <td>0.006523</td>\n",
       "      <td>0.083930</td>\n",
       "      <td>0.099427</td>\n",
       "      <td>0.115733</td>\n",
       "      <td>0.031817</td>\n",
       "      <td>0.102496</td>\n",
       "    </tr>\n",
       "    <tr>\n",
       "      <th>ETF3</th>\n",
       "      <td>0.048181</td>\n",
       "      <td>0.163308</td>\n",
       "      <td>0.053828</td>\n",
       "      <td>0.092525</td>\n",
       "      <td>0.107521</td>\n",
       "      <td>0.157659</td>\n",
       "      <td>0.005138</td>\n",
       "      <td>0.162741</td>\n",
       "      <td>0.101255</td>\n",
       "      <td>0.107844</td>\n",
       "    </tr>\n",
       "    <tr>\n",
       "      <th>ETF4</th>\n",
       "      <td>0.120828</td>\n",
       "      <td>0.127946</td>\n",
       "      <td>0.200062</td>\n",
       "      <td>0.122529</td>\n",
       "      <td>0.108332</td>\n",
       "      <td>0.153985</td>\n",
       "      <td>0.066616</td>\n",
       "      <td>0.050126</td>\n",
       "      <td>0.025478</td>\n",
       "      <td>0.024097</td>\n",
       "    </tr>\n",
       "  </tbody>\n",
       "</table>\n",
       "</div>"
      ],
      "text/plain": [
       "             A         B         C         D         E         F         G  \\\n",
       "ETF0  0.032161  0.160087  0.155371  0.017495  0.158185  0.053476  0.221998   \n",
       "ETF1  0.020030  0.078445  0.149019  0.091011  0.006436  0.190682  0.148907   \n",
       "ETF2  0.196113  0.181189  0.095938  0.086834  0.006523  0.083930  0.099427   \n",
       "ETF3  0.048181  0.163308  0.053828  0.092525  0.107521  0.157659  0.005138   \n",
       "ETF4  0.120828  0.127946  0.200062  0.122529  0.108332  0.153985  0.066616   \n",
       "\n",
       "             H         I         J  \n",
       "ETF0  0.087146  0.113267  0.000814  \n",
       "ETF1  0.161568  0.087372  0.066530  \n",
       "ETF2  0.115733  0.031817  0.102496  \n",
       "ETF3  0.162741  0.101255  0.107844  \n",
       "ETF4  0.050126  0.025478  0.024097  "
      ]
     },
     "execution_count": 6,
     "metadata": {},
     "output_type": "execute_result"
    }
   ],
   "source": [
    "w = pd.read_csv('https://raw.githubusercontent.com/msfrv/interviews/main/weights.csv',index_col=0)\n",
    "w.head()"
   ]
  },
  {
   "cell_type": "markdown",
   "metadata": {},
   "source": [
    "## compute recomposed returns"
   ]
  },
  {
   "cell_type": "markdown",
   "metadata": {
    "id": "Rw7CZxPK6VeP"
   },
   "source": [
    "Please compute the *recomposed returns* of the ETFs by:\n",
    "\n",
    "$ r_{i,d} = \\sum_j w_{i,j} (p_{j,d}/p_{j,d-1}-1)$\n",
    "\n",
    "where \n",
    "* $r_{i,d}$ is the recomposed return of ETF$i$ on date $d$\n",
    "* $w_{i,j}$ is the weight of the $j^{th}$ stock in ETF$i$\n",
    "* $p_{j,d}$ is the price of the $j^{th}$ stock on date $d$\n",
    "\n",
    "The result should be a 260x20 dataframe"
   ]
  },
  {
   "cell_type": "code",
   "execution_count": 7,
   "metadata": {
    "id": "xmg1RP5m51-r"
   },
   "outputs": [],
   "source": [
    "# code here"
   ]
  }
 ],
 "metadata": {
  "colab": {
   "collapsed_sections": [],
   "name": "Interview1.ipynb",
   "provenance": []
  },
  "kernelspec": {
   "display_name": "Python 3",
   "language": "python",
   "name": "python3"
  },
  "language_info": {
   "codemirror_mode": {
    "name": "ipython",
    "version": 3
   },
   "file_extension": ".py",
   "mimetype": "text/x-python",
   "name": "python",
   "nbconvert_exporter": "python",
   "pygments_lexer": "ipython3",
   "version": "3.8.10"
  },
  "toc": {
   "base_numbering": 1,
   "nav_menu": {},
   "number_sections": true,
   "sideBar": true,
   "skip_h1_title": false,
   "title_cell": "Table of Contents",
   "title_sidebar": "Contents",
   "toc_cell": false,
   "toc_position": {},
   "toc_section_display": true,
   "toc_window_display": false
  }
 },
 "nbformat": 4,
 "nbformat_minor": 1
}
