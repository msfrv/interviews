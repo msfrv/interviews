{
 "cells": [
  {
   "cell_type": "markdown",
   "metadata": {
    "id": "mJY0q6wTzhCK"
   },
   "source": [
    "# load data (1)"
   ]
  },
  {
   "cell_type": "code",
   "execution_count": 1,
   "metadata": {
    "id": "wkTG0HvxtsX3"
   },
   "outputs": [],
   "source": [
    "import pandas as pd\n",
    "import numpy as np"
   ]
  },
  {
   "cell_type": "code",
   "execution_count": 2,
   "metadata": {
    "colab": {
     "base_uri": "https://localhost:8080/",
     "height": 206
    },
    "id": "GKe_JMmYthLg",
    "outputId": "0edd30e7-2e93-4bbc-cfa5-30cb67ba7ef1"
   },
   "outputs": [
    {
     "data": {
      "text/html": [
       "<div>\n",
       "<style scoped>\n",
       "    .dataframe tbody tr th:only-of-type {\n",
       "        vertical-align: middle;\n",
       "    }\n",
       "\n",
       "    .dataframe tbody tr th {\n",
       "        vertical-align: top;\n",
       "    }\n",
       "\n",
       "    .dataframe thead th {\n",
       "        text-align: right;\n",
       "    }\n",
       "</style>\n",
       "<table border=\"1\" class=\"dataframe\">\n",
       "  <thead>\n",
       "    <tr style=\"text-align: right;\">\n",
       "      <th></th>\n",
       "      <th>stock</th>\n",
       "      <th>date</th>\n",
       "      <th>price</th>\n",
       "    </tr>\n",
       "  </thead>\n",
       "  <tbody>\n",
       "    <tr>\n",
       "      <th>0</th>\n",
       "      <td>IEC</td>\n",
       "      <td>2018-01-01</td>\n",
       "      <td>71.36</td>\n",
       "    </tr>\n",
       "    <tr>\n",
       "      <th>1</th>\n",
       "      <td>IEC</td>\n",
       "      <td>2018-01-02</td>\n",
       "      <td>72.10</td>\n",
       "    </tr>\n",
       "    <tr>\n",
       "      <th>2</th>\n",
       "      <td>IEC</td>\n",
       "      <td>2018-01-03</td>\n",
       "      <td>72.70</td>\n",
       "    </tr>\n",
       "    <tr>\n",
       "      <th>3</th>\n",
       "      <td>IEC</td>\n",
       "      <td>2018-01-04</td>\n",
       "      <td>72.54</td>\n",
       "    </tr>\n",
       "    <tr>\n",
       "      <th>4</th>\n",
       "      <td>IEC</td>\n",
       "      <td>2018-01-05</td>\n",
       "      <td>72.68</td>\n",
       "    </tr>\n",
       "  </tbody>\n",
       "</table>\n",
       "</div>"
      ],
      "text/plain": [
       "  stock        date  price\n",
       "0   IEC  2018-01-01  71.36\n",
       "1   IEC  2018-01-02  72.10\n",
       "2   IEC  2018-01-03  72.70\n",
       "3   IEC  2018-01-04  72.54\n",
       "4   IEC  2018-01-05  72.68"
      ]
     },
     "execution_count": 2,
     "metadata": {},
     "output_type": "execute_result"
    }
   ],
   "source": [
    "df = pd.read_csv('https://raw.githubusercontent.com/msfrv/interviews/main/prices.csv')\n",
    "df.head()"
   ]
  },
  {
   "cell_type": "markdown",
   "metadata": {
    "id": "0UpXIu-mxeh6"
   },
   "source": [
    "## reformat\n",
    "Convert the dataframe such that the rows are date, columns are stocks.\n",
    "The first few rows should be like:\n",
    "\n",
    "```\n",
    "              ETU    HLR    IEC    IZP     MDH    NOR    QLY    QWM    YWC    ZCV  \n",
    "2018-01-01  25.35  54.50  71.36  66.63   97.97  50.64  49.25  64.59  90.21  66.76  \n",
    "2018-01-02  25.90  53.14  72.10  66.33   96.53  50.80  48.70  68.58  90.47  65.80  \n",
    "2018-01-03  36.90  54.60  72.70  68.10   98.15  50.55  51.95  68.02  90.16  64.21  \n",
    "2018-01-04  24.50  54.00  72.54  67.71  103.91  50.48  50.10  66.20  90.47  66.43  \n",
    "2018-01-05  24.30  54.82  72.68  66.93   95.81  50.41  51.60  62.56  90.33  64.93  \n",
    "...\n",
    "```"
   ]
  },
  {
   "cell_type": "code",
   "execution_count": 3,
   "metadata": {
    "id": "F09tiCovvMOW"
   },
   "outputs": [],
   "source": [
    "# code here\n"
   ]
  },
  {
   "cell_type": "markdown",
   "metadata": {
    "id": "MChBzARxyLrx"
   },
   "source": [
    "## find outliers\n",
    "find datapoints (stock+date) which are >2 sigmas (standard deviation) away from their means.\n",
    "\n",
    "Show their z-scores and the prices.\n",
    "\n",
    "The output should be like:\n",
    "\n",
    "```\n",
    " stock        date    z-score   price\n",
    "   ETU  2018-01-03   7.596733   36.90\n",
    "   IEC  2018-03-01  10.474413   91.24\n",
    "   IEC  2018-07-24 -11.128219   51.56\n",
    "...\n",
    "```\n",
    "note: z-score is $(x-\\mu)/\\sigma$\n"
   ]
  },
  {
   "cell_type": "code",
   "execution_count": 4,
   "metadata": {
    "id": "WZhO1TaxzSCC"
   },
   "outputs": [],
   "source": [
    "# code here\n"
   ]
  },
  {
   "cell_type": "markdown",
   "metadata": {
    "id": "TnwBKjB40FKj"
   },
   "source": [
    "## remove outliers\n",
    "for each of the outliers found above, replace their prices by interpolating between the values before and after.\n",
    "\n",
    "For example, for the first outlier (price of ETU at 2018-01-03), the prices before and after that day are:\n",
    "\n",
    "```\n",
    "      date   prices\n",
    "2018-01-02    25.90\n",
    "2018-01-03    36.90\n",
    "2018-01-04    24.50\n",
    "```\n",
    "We will replace the price of ETU at 2018-01-03 by: $(25.90+24.50)/2=25.20$\n",
    "\n",
    "Please output the list of overridden prices. The first few should be:\n",
    "```\n",
    "stock  date      \n",
    "ETU    2018-01-03    25.20\n",
    "IEC    2018-03-01    71.84\n",
    "       2018-07-24    71.58\n",
    "MDH    2018-11-09    98.78\n",
    "...\n",
    "```"
   ]
  },
  {
   "cell_type": "code",
   "execution_count": 5,
   "metadata": {
    "id": "fOvGYcYm2bsi"
   },
   "outputs": [],
   "source": [
    "# code here\n"
   ]
  },
  {
   "cell_type": "markdown",
   "metadata": {
    "id": "RfAmBNDZ3U_x"
   },
   "source": [
    "The prices should now be like this :\n",
    "```\n",
    "stock         ETU    HLR    IEC    IZP     MDH    NOR    QLY    QWM    YWC    ZCV\n",
    "2018-01-01  25.35  54.50  71.36  66.63   97.97  50.64  49.25  64.59  90.21  66.76\n",
    "2018-01-02  25.90  53.14  72.10  66.33   96.53  50.80  48.70  68.58  90.47  65.80\n",
    "2018-01-03  25.20  54.60  72.70  68.10   98.15  50.55  51.95  68.02  90.16  64.21\n",
    "2018-01-04  24.50  54.00  72.54  67.71  103.91  50.48  50.10  66.20  90.47  66.43\n",
    "2018-01-05  24.30  54.82  72.68  66.93   95.81  50.41  51.60  62.56  90.33  64.93\n",
    "...\n",
    "```  "
   ]
  },
  {
   "cell_type": "markdown",
   "metadata": {
    "id": "WIOXVQxW5D_6"
   },
   "source": [
    "# load weights\n",
    "This file contains the weights of those 10 stocks in 20 indices"
   ]
  },
  {
   "cell_type": "code",
   "execution_count": 6,
   "metadata": {
    "colab": {
     "base_uri": "https://localhost:8080/",
     "height": 206
    },
    "id": "ZNXiHi4R5Hlw",
    "outputId": "1a3d5a0a-7889-4c89-fef5-b4b5421ed403"
   },
   "outputs": [
    {
     "data": {
      "text/html": [
       "<div>\n",
       "<style scoped>\n",
       "    .dataframe tbody tr th:only-of-type {\n",
       "        vertical-align: middle;\n",
       "    }\n",
       "\n",
       "    .dataframe tbody tr th {\n",
       "        vertical-align: top;\n",
       "    }\n",
       "\n",
       "    .dataframe thead th {\n",
       "        text-align: right;\n",
       "    }\n",
       "</style>\n",
       "<table border=\"1\" class=\"dataframe\">\n",
       "  <thead>\n",
       "    <tr style=\"text-align: right;\">\n",
       "      <th></th>\n",
       "      <th>IndexName</th>\n",
       "      <th>stock</th>\n",
       "      <th>weight</th>\n",
       "    </tr>\n",
       "  </thead>\n",
       "  <tbody>\n",
       "    <tr>\n",
       "      <th>0</th>\n",
       "      <td>Index00</td>\n",
       "      <td>HLR</td>\n",
       "      <td>0.249400</td>\n",
       "    </tr>\n",
       "    <tr>\n",
       "      <th>1</th>\n",
       "      <td>Index00</td>\n",
       "      <td>MDH</td>\n",
       "      <td>0.257100</td>\n",
       "    </tr>\n",
       "    <tr>\n",
       "      <th>2</th>\n",
       "      <td>Index00</td>\n",
       "      <td>ZCV</td>\n",
       "      <td>0.384000</td>\n",
       "    </tr>\n",
       "    <tr>\n",
       "      <th>3</th>\n",
       "      <td>Index01</td>\n",
       "      <td>HLR</td>\n",
       "      <td>1.000000</td>\n",
       "    </tr>\n",
       "    <tr>\n",
       "      <th>4</th>\n",
       "      <td>Index02</td>\n",
       "      <td>MDH</td>\n",
       "      <td>0.573095</td>\n",
       "    </tr>\n",
       "  </tbody>\n",
       "</table>\n",
       "</div>"
      ],
      "text/plain": [
       "  IndexName stock    weight\n",
       "0   Index00   HLR  0.249400\n",
       "1   Index00   MDH  0.257100\n",
       "2   Index00   ZCV  0.384000\n",
       "3   Index01   HLR  1.000000\n",
       "4   Index02   MDH  0.573095"
      ]
     },
     "execution_count": 6,
     "metadata": {},
     "output_type": "execute_result"
    }
   ],
   "source": [
    "w = pd.read_csv('https://raw.githubusercontent.com/msfrv/interviews/main/weights.csv')\n",
    "w.head()"
   ]
  },
  {
   "cell_type": "markdown",
   "metadata": {},
   "source": [
    "## compute recomposed returns"
   ]
  },
  {
   "cell_type": "markdown",
   "metadata": {
    "id": "Rw7CZxPK6VeP"
   },
   "source": [
    "Please compute the *recomposed returns* of the indices by:\n",
    "\n",
    "$ r_{i,d} = \\sum_j w_{i,j} (p_{j,d}/p_{j,d-1}-1)$\n",
    "\n",
    "where \n",
    "* $r_{i,d}$ is the recomposed return of the $i^{th}$ Index on date $d$\n",
    "* $w_{i,j}$ is the weight of the $j^{th}$ stock in the $i^{th}$ Index\n",
    "* $p_{j,d}$ is the price of the $j^{th}$ stock on date $d$\n",
    "\n",
    "For example, the recomposed return of Index00 at 2018-01-02 is computed by:\n",
    "\n",
    "$ 0.2494\\times(53.14/54.50-1) + 0.2571\\times(96.53/97.97-1) + 0.3840\\times(65.80/66.76-1) = -0.01552438$\n",
    "\n",
    "The result should be a 260x20 (Ndates x Nindices) dataframe. The first few rows should be like:\n",
    "```\n",
    "IndexName    Index00   Index01   Index02   Index03   Index04 ...  \n",
    "2018-01-02 -0.015524 -0.024954 -0.004104 -0.006599  0.007344 ...   \n",
    "2018-01-03  0.001888  0.027475  0.007906  0.020762  0.007748 ...   \n",
    "2018-01-04  0.025624 -0.010989  0.033516  0.006294 -0.003932 ...   \n",
    "...\n",
    "```"
   ]
  },
  {
   "cell_type": "code",
   "execution_count": 7,
   "metadata": {
    "id": "xmg1RP5m51-r"
   },
   "outputs": [],
   "source": [
    "# code here"
   ]
  }
 ],
 "metadata": {
  "colab": {
   "collapsed_sections": [],
   "name": "Interview1.ipynb",
   "provenance": []
  },
  "kernelspec": {
   "display_name": "Python 3",
   "language": "python",
   "name": "python3"
  },
  "language_info": {
   "codemirror_mode": {
    "name": "ipython",
    "version": 3
   },
   "file_extension": ".py",
   "mimetype": "text/x-python",
   "name": "python",
   "nbconvert_exporter": "python",
   "pygments_lexer": "ipython3",
   "version": "3.8.10"
  },
  "toc": {
   "base_numbering": 1,
   "nav_menu": {},
   "number_sections": true,
   "sideBar": true,
   "skip_h1_title": false,
   "title_cell": "Table of Contents",
   "title_sidebar": "Contents",
   "toc_cell": false,
   "toc_position": {},
   "toc_section_display": true,
   "toc_window_display": false
  }
 },
 "nbformat": 4,
 "nbformat_minor": 1
}
